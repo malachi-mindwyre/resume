{
 "cells": [
  {
   "cell_type": "markdown",
   "metadata": {},
   "source": [
    "# Resume Generator\n",
    "\n",
    "This interactive tool helps you create a professionally formatted resume from a template, customized with your information and optimized for job applications.\n",
    "\n",
    "## Instructions:\n",
    "\n",
    "1. Complete the form below:\n",
    "   - Enter your full name (first and last)\n",
    "   - Select a resume template from the dropdown\n",
    "   - Choose whether to upload the final PDF to Google Drive\n",
    "\n",
    "2. Click the \"Generate Resume\" button to create your resume.\n",
    "\n",
    "3. Your files will be saved in the `data/output` directory.\n"
   ]
  },
  {
   "cell_type": "code",
   "execution_count": 9,
   "metadata": {},
   "outputs": [
    {
     "data": {
      "application/vnd.jupyter.widget-view+json": {
       "model_id": "fd9bff3fb3334122bf4f9a9b94feb74c",
       "version_major": 2,
       "version_minor": 0
      },
      "text/plain": [
       "HTML(value='<h3>Resume Generator Options</h3>')"
      ]
     },
     "metadata": {},
     "output_type": "display_data"
    },
    {
     "data": {
      "application/vnd.jupyter.widget-view+json": {
       "model_id": "a7a06f9c6fe64277bfe865b38d53bdfe",
       "version_major": 2,
       "version_minor": 0
      },
      "text/plain": [
       "Text(value='Malachi Dunn', description='Full Name:', layout=Layout(width='50%'), style=TextStyle(description_w…"
      ]
     },
     "metadata": {},
     "output_type": "display_data"
    },
    {
     "data": {
      "application/vnd.jupyter.widget-view+json": {
       "model_id": "225acbe9b61f40e2a895cde1bae848ae",
       "version_major": 2,
       "version_minor": 0
      },
      "text/plain": [
       "Dropdown(description='Select Template:', layout=Layout(width='70%'), options=('resume_template_pin.md', 'resum…"
      ]
     },
     "metadata": {},
     "output_type": "display_data"
    },
    {
     "data": {
      "application/vnd.jupyter.widget-view+json": {
       "model_id": "8895ad9ee2dd4f7093fea0a51a4b5204",
       "version_major": 2,
       "version_minor": 0
      },
      "text/plain": [
       "Text(value='data/input/lead_gen.csv', description='Input Job Listings CSV:', layout=Layout(width='70%'), style…"
      ]
     },
     "metadata": {},
     "output_type": "display_data"
    },
    {
     "data": {
      "application/vnd.jupyter.widget-view+json": {
       "model_id": "c059fbb302904d5984b8356bbe9ee598",
       "version_major": 2,
       "version_minor": 0
      },
      "text/plain": [
       "Dropdown(description='Upload to Google Drive:', layout=Layout(width='50%'), options=(('Yes', True), ('No', Fal…"
      ]
     },
     "metadata": {},
     "output_type": "display_data"
    },
    {
     "data": {
      "application/vnd.jupyter.widget-view+json": {
       "model_id": "6b047589cade414eae97454a2e6eccaf",
       "version_major": 2,
       "version_minor": 0
      },
      "text/plain": [
       "Button(button_style='success', description='Generate Resume', icon='rocket', style=ButtonStyle())"
      ]
     },
     "metadata": {},
     "output_type": "display_data"
    },
    {
     "data": {
      "application/vnd.jupyter.widget-view+json": {
       "model_id": "109512fc0bd24e248b1b9ec9ef63c1a4",
       "version_major": 2,
       "version_minor": 0
      },
      "text/plain": [
       "Output()"
      ]
     },
     "metadata": {},
     "output_type": "display_data"
    }
   ],
   "source": [
    "import os\n",
    "import sys\n",
    "import pickle\n",
    "import tqdm.notebook as tqdm\n",
    "import glob\n",
    "import ipywidgets as widgets\n",
    "from IPython.display import clear_output, display\n",
    "from pathlib import Path\n",
    "\n",
    "# Add scripts directory to path\n",
    "sys.path.append('scripts')\n",
    "\n",
    "# Import required modules\n",
    "from google_auth_oauthlib.flow import InstalledAppFlow\n",
    "from google.auth.transport.requests import Request\n",
    "from googleapiclient.discovery import build\n",
    "from googleapiclient.http import MediaFileUpload\n",
    "from scripts.resume_generator import process_keywords, generate_resume, generate_pdf, upload_to_drive\n",
    "\n",
    "# Get all available templates\n",
    "template_files = glob.glob(\"templates/*.md\")\n",
    "template_names = [os.path.basename(f) for f in template_files]\n",
    "\n",
    "# Create widgets for user input\n",
    "name_input = widgets.Text(\n",
    "    value='Malachi Dunn',\n",
    "    description='Full Name:',\n",
    "    style={'description_width': 'initial'},\n",
    "    layout=widgets.Layout(width='50%')\n",
    ")\n",
    "\n",
    "template_dropdown = widgets.Dropdown(\n",
    "    options=template_names,\n",
    "    value=template_names[0] if template_names else None,\n",
    "    description='Select Template:',\n",
    "    style={'description_width': 'initial'},\n",
    "    layout=widgets.Layout(width='70%')\n",
    ")\n",
    "\n",
    "upload_dropdown = widgets.Dropdown(\n",
    "    options=[('Yes', True), ('No', False), ('Skip PDF generation', 'skip')],\n",
    "    value=True,\n",
    "    description='Upload to Google Drive:',\n",
    "    style={'description_width': 'initial'},\n",
    "    layout=widgets.Layout(width='50%')\n",
    ")\n",
    "\n",
    "input_file_widget = widgets.Text(\n",
    "    value='data/input/lead_gen.csv',\n",
    "    description='Input Job Listings CSV:',\n",
    "    style={'description_width': 'initial'},\n",
    "    layout=widgets.Layout(width='70%')\n",
    ")\n",
    "\n",
    "# Static config values\n",
    "config_file = \"templates/resume_config.yaml\"\n",
    "output_dir = \"data/output\"\n",
    "drive_folder_id = \"1s6n9eS9d2NNy9lyXgoYdPGOwkyGGujnw\"\n",
    "\n",
    "# Create a button to start the process\n",
    "run_button = widgets.Button(\n",
    "    description='Generate Resume',\n",
    "    button_style='success',\n",
    "    icon='rocket'\n",
    ")\n",
    "\n",
    "output_area = widgets.Output()\n",
    "\n",
    "def on_run_button_clicked(b):\n",
    "    with output_area:\n",
    "        clear_output()\n",
    "        \n",
    "        # Get values from widgets\n",
    "        basename = name_input.value.strip()\n",
    "        if not basename:\n",
    "            print(\"❌ Error: Please enter a name.\")\n",
    "            return\n",
    "            \n",
    "        template_name = template_dropdown.value\n",
    "        if not template_name:\n",
    "            print(\"❌ Error: Please select a template.\")\n",
    "            return\n",
    "            \n",
    "        template_file = os.path.join(\"templates\", template_name)\n",
    "        do_upload = upload_dropdown.value\n",
    "        input_file = input_file_widget.value\n",
    "        \n",
    "        # Validate input file\n",
    "        if not os.path.exists(input_file):\n",
    "            print(f\"❌ Error: Input file '{input_file}' not found.\")\n",
    "            return\n",
    "        \n",
    "        # Setup progress bar\n",
    "        total_steps = 2\n",
    "        if do_upload != 'skip':\n",
    "            total_steps += 1\n",
    "        \n",
    "        progress = tqdm.tqdm(total=total_steps, desc=\"Resume Generator\")\n",
    "        \n",
    "        # Create output directory if it doesn't exist\n",
    "        os.makedirs(output_dir, exist_ok=True)\n",
    "        \n",
    "        # Process keywords\n",
    "        keywords_output = os.path.join(output_dir, 'processed_keywords.csv')\n",
    "        keywords = process_keywords(input_file, keywords_output)\n",
    "        progress.update(1)\n",
    "        \n",
    "        # Generate resume\n",
    "        basename_underscore = basename.replace(' ', '_').lower()\n",
    "        base_output = os.path.join(output_dir, f\"{basename_underscore}_resume.md\")\n",
    "        generate_resume(template_file, config_file, base_output, keywords_file=keywords_output)\n",
    "        progress.update(1)\n",
    "        \n",
    "        # Generate PDF and upload to Google Drive\n",
    "        if do_upload != 'skip':\n",
    "            pdf_file = generate_pdf(base_output, output_dir)\n",
    "            if pdf_file:\n",
    "                if do_upload is True:\n",
    "                    drive_link = upload_to_drive(pdf_file, drive_folder_id)\n",
    "                    upload_message = f\"and uploaded to Google Drive\"\n",
    "                else:\n",
    "                    upload_message = f\"(not uploaded to Google Drive)\"\n",
    "                progress.update(1)\n",
    "            else:\n",
    "                upload_message = f\"but PDF generation failed\"\n",
    "        else:\n",
    "            upload_message = \"(PDF generation skipped)\"\n",
    "        \n",
    "        progress.close()\n",
    "        print(f\"✅ Done! Your resume has been generated {upload_message}.\")\n",
    "        print(f\"📄 Output files are in: {output_dir}\")\n",
    "\n",
    "# Connect the button to the function\n",
    "run_button.on_click(on_run_button_clicked)\n",
    "\n",
    "# Display the widgets\n",
    "display(widgets.HTML(\"<h3>Resume Generator Options</h3>\"))\n",
    "display(name_input)\n",
    "display(template_dropdown)\n",
    "display(input_file_widget)\n",
    "display(upload_dropdown)\n",
    "display(run_button)\n",
    "display(output_area)"
   ]
  }
 ],
 "metadata": {
  "kernelspec": {
   "display_name": ".venv",
   "language": "python",
   "name": "python3"
  },
  "language_info": {
   "codemirror_mode": {
    "name": "ipython",
    "version": 3
   },
   "file_extension": ".py",
   "mimetype": "text/x-python",
   "name": "python",
   "nbconvert_exporter": "python",
   "pygments_lexer": "ipython3",
   "version": "3.9.6"
  }
 },
 "nbformat": 4,
 "nbformat_minor": 4
}
