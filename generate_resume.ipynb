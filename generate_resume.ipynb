{
 "cells": [
  {
   "cell_type": "markdown",
   "metadata": {},
   "source": [
    "# Resume Optimizer\n",
    "\n",
    "This interactive tool helps you optimize your resume for specific job applications by:\n",
    "1. Selecting a job type with pre-configured keywords\n",
    "2. Choosing a template optimized for your target role\n",
    "3. Adding missing keywords to ensure ATS compatibility\n",
    "4. Generating a professionally formatted PDF resume\n",
    "\n",
    "## Instructions:\n",
    "\n",
    "1. Complete the form below:\n",
    "   - Enter your full name (first and last)\n",
    "   - Select a job type (e.g., Data Engineer)\n",
    "   - Choose a template variant (e.g., general, company-specific)\n",
    "   - Set whether to upload the final PDF to Google Drive\n",
    "\n",
    "2. Click the \"Generate Resume\" button to create your optimized resume.\n",
    "\n",
    "3. Your files will be saved in the `data/output` directory."
   ]
  },
  {
   "cell_type": "code",
   "execution_count": 1,
   "metadata": {},
   "outputs": [
    {
     "data": {
      "application/vnd.jupyter.widget-view+json": {
       "model_id": "fc5cab96e2dc41079d8a3474b4386598",
       "version_major": 2,
       "version_minor": 0
      },
      "text/plain": [
       "HTML(value='<h3>Resume Generator Options</h3>')"
      ]
     },
     "metadata": {},
     "output_type": "display_data"
    },
    {
     "data": {
      "application/vnd.jupyter.widget-view+json": {
       "model_id": "4f9fecc3524e420db3e3c8952f48ceaf",
       "version_major": 2,
       "version_minor": 0
      },
      "text/plain": [
       "Text(value='Malachi Dunn', description='Full Name:', layout=Layout(width='50%'), style=TextStyle(description_w…"
      ]
     },
     "metadata": {},
     "output_type": "display_data"
    },
    {
     "data": {
      "application/vnd.jupyter.widget-view+json": {
       "model_id": "0f4c094c7e0941d690855aa97b4feacd",
       "version_major": 2,
       "version_minor": 0
      },
      "text/plain": [
       "Dropdown(description='Job Type:', layout=Layout(width='50%'), options=('data_engineer',), style=DescriptionSty…"
      ]
     },
     "metadata": {},
     "output_type": "display_data"
    },
    {
     "data": {
      "application/vnd.jupyter.widget-view+json": {
       "model_id": "dbbd72c3086c44ef8a843fada5b9587c",
       "version_major": 2,
       "version_minor": 0
      },
      "text/plain": [
       "Dropdown(description='Template:', layout=Layout(width='70%'), options=('general',), style=DescriptionStyle(des…"
      ]
     },
     "metadata": {},
     "output_type": "display_data"
    },
    {
     "data": {
      "application/vnd.jupyter.widget-view+json": {
       "model_id": "a2f04c4018bb4fb192928ac5e468a369",
       "version_major": 2,
       "version_minor": 0
      },
      "text/plain": [
       "Dropdown(description='Upload to Google Drive:', layout=Layout(width='50%'), options=(('Yes', True), ('No', Fal…"
      ]
     },
     "metadata": {},
     "output_type": "display_data"
    },
    {
     "data": {
      "application/vnd.jupyter.widget-view+json": {
       "model_id": "6d8891842aa24aa381ebab9351f8bac0",
       "version_major": 2,
       "version_minor": 0
      },
      "text/plain": [
       "Button(button_style='success', description='Generate Resume', icon='rocket', style=ButtonStyle())"
      ]
     },
     "metadata": {},
     "output_type": "display_data"
    },
    {
     "data": {
      "application/vnd.jupyter.widget-view+json": {
       "model_id": "ae9bf3fb53674bcba91964d56accf74e",
       "version_major": 2,
       "version_minor": 0
      },
      "text/plain": [
       "Output()"
      ]
     },
     "metadata": {},
     "output_type": "display_data"
    }
   ],
   "source": [
    "import os\n",
    "import sys\n",
    "import pickle\n",
    "import tqdm.notebook as tqdm\n",
    "import glob\n",
    "import ipywidgets as widgets\n",
    "from IPython.display import clear_output, display\n",
    "from pathlib import Path\n",
    "\n",
    "# Add scripts directory to path\n",
    "sys.path.append('scripts')\n",
    "\n",
    "# Import required modules\n",
    "from google_auth_oauthlib.flow import InstalledAppFlow\n",
    "from google.auth.transport.requests import Request\n",
    "from googleapiclient.discovery import build\n",
    "from googleapiclient.http import MediaFileUpload\n",
    "from scripts.resume_generator import process_keywords, generate_resume, generate_pdf, upload_to_drive\n",
    "\n",
    "# Get available job types and their templates\n",
    "job_types = []\n",
    "job_types_templates = {}\n",
    "\n",
    "# Get all available job types\n",
    "if os.path.exists('job_types'):\n",
    "    job_types = [name for name in os.listdir('job_types') \n",
    "               if os.path.isdir(os.path.join('job_types', name))]\n",
    "    \n",
    "    # For each job type, get its templates\n",
    "    for job_type in job_types:\n",
    "        templates_dir = os.path.join('job_types', job_type, 'templates')\n",
    "        if os.path.exists(templates_dir):\n",
    "            templates = [os.path.splitext(name)[0] for name in os.listdir(templates_dir) \n",
    "                       if name.endswith('.md')]\n",
    "            job_types_templates[job_type] = templates\n",
    "\n",
    "# Create widgets for user input\n",
    "name_input = widgets.Text(\n",
    "    value='Malachi Dunn',\n",
    "    description='Full Name:',\n",
    "    style={'description_width': 'initial'},\n",
    "    layout=widgets.Layout(width='50%')\n",
    ")\n",
    "\n",
    "job_type_dropdown = widgets.Dropdown(\n",
    "    options=job_types,\n",
    "    value=job_types[0] if job_types else None,\n",
    "    description='Job Type:',\n",
    "    style={'description_width': 'initial'},\n",
    "    layout=widgets.Layout(width='50%')\n",
    ")\n",
    "\n",
    "template_dropdown = widgets.Dropdown(\n",
    "    options=job_types_templates.get(job_types[0], []) if job_types else [],\n",
    "    value=job_types_templates.get(job_types[0], [])[0] if job_types and job_types_templates.get(job_types[0], []) else None,\n",
    "    description='Template:',\n",
    "    style={'description_width': 'initial'},\n",
    "    layout=widgets.Layout(width='70%')\n",
    ")\n",
    "\n",
    "upload_dropdown = widgets.Dropdown(\n",
    "    options=[('Yes', True), ('No', False), ('Skip PDF generation', 'skip')],\n",
    "    value=True,\n",
    "    description='Upload to Google Drive:',\n",
    "    style={'description_width': 'initial'},\n",
    "    layout=widgets.Layout(width='50%')\n",
    ")\n",
    "\n",
    "# Static values\n",
    "output_dir = \"data/output\"\n",
    "drive_folder_id = \"1s6n9eS9d2NNy9lyXgoYdPGOwkyGGujnw\"\n",
    "\n",
    "# Update template dropdown when job type changes\n",
    "def update_templates(*args):\n",
    "    template_dropdown.options = job_types_templates.get(job_type_dropdown.value, [])\n",
    "    if template_dropdown.options:\n",
    "        template_dropdown.value = template_dropdown.options[0]\n",
    "    \n",
    "job_type_dropdown.observe(update_templates, names='value')\n",
    "\n",
    "# Create a button to start the process\n",
    "run_button = widgets.Button(\n",
    "    description='Generate Resume',\n",
    "    button_style='success',\n",
    "    icon='rocket'\n",
    ")\n",
    "\n",
    "output_area = widgets.Output()\n",
    "\n",
    "def on_run_button_clicked(b):\n",
    "    with output_area:\n",
    "        clear_output()\n",
    "        \n",
    "        # Get values from widgets\n",
    "        basename = name_input.value.strip()\n",
    "        if not basename:\n",
    "            print(\"❌ Error: Please enter a name.\")\n",
    "            return\n",
    "            \n",
    "        job_type = job_type_dropdown.value\n",
    "        if not job_type:\n",
    "            print(\"❌ Error: Please select a job type.\")\n",
    "            return\n",
    "            \n",
    "        template = template_dropdown.value\n",
    "        if not template:\n",
    "            print(\"❌ Error: Please select a template.\")\n",
    "            return\n",
    "            \n",
    "        do_upload = upload_dropdown.value\n",
    "        \n",
    "        # Setup progress bar\n",
    "        total_steps = 2\n",
    "        if do_upload != 'skip':\n",
    "            total_steps += 1\n",
    "        \n",
    "        progress = tqdm.tqdm(total=total_steps, desc=\"Resume Generator\")\n",
    "        \n",
    "        # Create output directory if it doesn't exist\n",
    "        os.makedirs(output_dir, exist_ok=True)\n",
    "        \n",
    "        # Set paths based on job type and template\n",
    "        # keywords_file = os.path.join('job_types', job_type, 'keywords.csv') # Original path\n",
    "        keywords_file = os.path.join('data', 'input', 'keywords.csv') # Updated path\n",
    "        template_file = os.path.join('job_types', job_type, 'templates', f\"{template}.md\")\n",
    "        \n",
    "        # Validate paths\n",
    "        if not os.path.exists(keywords_file):\n",
    "            # print(f\"❌ Error: Keywords file not found for job type '{job_type}'\") # Original message\n",
    "            print(f\"❌ Error: Keywords file not found at '{keywords_file}'\") # Updated message\n",
    "            return\n",
    "            \n",
    "        if not os.path.exists(template_file):\n",
    "            print(f\"❌ Error: Template file not found: {template_file}\")\n",
    "            return\n",
    "        \n",
    "        # Process keywords\n",
    "        keywords_output = os.path.join(output_dir, 'processed_keywords.csv')\n",
    "        keywords = process_keywords(keywords_file, keywords_output)\n",
    "        progress.update(1)\n",
    "        \n",
    "        # Generate resume\n",
    "        basename_underscore = basename.replace(' ', '_').lower()\n",
    "        base_output = os.path.join(output_dir, f\"{basename_underscore}_resume.md\")\n",
    "        generate_resume(template_file, None, base_output, keywords_file=keywords_output)\n",
    "        progress.update(1)\n",
    "        \n",
    "        # Generate PDF and upload to Google Drive\n",
    "        if do_upload != 'skip':\n",
    "            pdf_file = generate_pdf(base_output, output_dir)\n",
    "            if pdf_file:\n",
    "                if do_upload is True:\n",
    "                    drive_link = upload_to_drive(pdf_file, drive_folder_id)\n",
    "                    upload_message = f\"and uploaded to Google Drive\"\n",
    "                else:\n",
    "                    upload_message = f\"(not uploaded to Google Drive)\"\n",
    "                progress.update(1)\n",
    "            else:\n",
    "                upload_message = f\"but PDF generation failed\"\n",
    "        else:\n",
    "            upload_message = \"(PDF generation skipped)\"\n",
    "        \n",
    "        progress.close()\n",
    "        print(f\"✅ Done! Your resume has been generated {upload_message}.\")\n",
    "        print(f\"📄 Output files are in: {output_dir}\")\n",
    "\n",
    "# Connect the button to the function\n",
    "run_button.on_click(on_run_button_clicked)\n",
    "\n",
    "# Display the widgets\n",
    "display(widgets.HTML(\"<h3>Resume Generator Options</h3>\"))\n",
    "display(name_input)\n",
    "display(job_type_dropdown)\n",
    "display(template_dropdown)\n",
    "display(upload_dropdown)\n",
    "display(run_button)\n",
    "display(output_area)"
   ]
  }
 ],
 "metadata": {
  "kernelspec": {
   "display_name": ".venv",
   "language": "python",
   "name": "python3"
  },
  "language_info": {
   "codemirror_mode": {
    "name": "ipython",
    "version": 3
   },
   "file_extension": ".py",
   "mimetype": "text/x-python",
   "name": "python",
   "nbconvert_exporter": "python",
   "pygments_lexer": "ipython3",
   "version": "3.9.6"
  }
 },
 "nbformat": 4,
 "nbformat_minor": 4
}
