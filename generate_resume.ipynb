{
 "cells": [
  {
   "cell_type": "markdown",
   "metadata": {},
   "source": "# Resume Generator\n\nThis interactive tool helps you create a professionally formatted resume from a template, customized with your information and optimized for job applications.\n\n## Instructions:\n\n1. Complete the form below:\n   - Enter your full name (first and last)\n   - Select a resume template from the dropdown\n   - Choose whether to upload the final PDF to Google Drive\n\n2. Click the \"Generate Resume\" button to create your resume.\n\n3. Your files will be saved in the `data/output` directory.\n"
  },
  {
   "cell_type": "code",
   "metadata": {},
   "outputs": [],
   "source": "import os\nimport sys\nimport pickle\nimport tqdm.notebook as tqdm\nimport glob\nimport ipywidgets as widgets\nfrom IPython.display import clear_output, display\nfrom pathlib import Path\n\n# Add scripts directory to path\nsys.path.append('scripts')\n\n# Import required modules\nfrom google_auth_oauthlib.flow import InstalledAppFlow\nfrom google.auth.transport.requests import Request\nfrom googleapiclient.discovery import build\nfrom googleapiclient.http import MediaFileUpload\nfrom scripts.resume_generator import process_keywords, generate_resume, generate_pdf, upload_to_drive\n\n# Get all available templates\ntemplate_files = glob.glob(\"templates/*.md\")\ntemplate_names = [os.path.basename(f) for f in template_files]\n\n# Create widgets for user input\nname_input = widgets.Text(\n    value='Malachi Dunn',\n    description='Full Name:',\n    style={'description_width': 'initial'},\n    layout=widgets.Layout(width='50%')\n)\n\ntemplate_dropdown = widgets.Dropdown(\n    options=template_names,\n    value=template_names[0] if template_names else None,\n    description='Select Template:',\n    style={'description_width': 'initial'},\n    layout=widgets.Layout(width='70%')\n)\n\nupload_dropdown = widgets.Dropdown(\n    options=[('Yes', True), ('No', False), ('Skip PDF generation', 'skip')],\n    value=True,\n    description='Upload to Google Drive:',\n    style={'description_width': 'initial'},\n    layout=widgets.Layout(width='50%')\n)\n\ninput_file_widget = widgets.Text(\n    value='data/input/lead_gen.csv',\n    description='Input Job Listings CSV:',\n    style={'description_width': 'initial'},\n    layout=widgets.Layout(width='70%')\n)\n\n# Static config values\nconfig_file = \"templates/resume_config.yaml\"\noutput_dir = \"data/output\"\ndrive_folder_id = \"1s6n9eS9d2NNy9lyXgoYdPGOwkyGGujnw\"\n\n# Create a button to start the process\nrun_button = widgets.Button(\n    description='Generate Resume',\n    button_style='success',\n    icon='rocket'\n)\n\noutput_area = widgets.Output()\n\ndef on_run_button_clicked(b):\n    with output_area:\n        clear_output()\n        \n        # Get values from widgets\n        basename = name_input.value.strip()\n        if not basename:\n            print(\"\u274c Error: Please enter a name.\")\n            return\n            \n        template_name = template_dropdown.value\n        if not template_name:\n            print(\"\u274c Error: Please select a template.\")\n            return\n            \n        template_file = os.path.join(\"templates\", template_name)\n        do_upload = upload_dropdown.value\n        input_file = input_file_widget.value\n        \n        # Validate input file\n        if not os.path.exists(input_file):\n            print(f\"\u274c Error: Input file '{input_file}' not found.\")\n            return\n        \n        # Setup progress bar\n        total_steps = 2\n        if do_upload != 'skip':\n            total_steps += 1\n        \n        progress = tqdm.tqdm(total=total_steps, desc=\"Resume Generator\")\n        \n        # Create output directory if it doesn't exist\n        os.makedirs(output_dir, exist_ok=True)\n        \n        # Process keywords\n        keywords_output = os.path.join(output_dir, 'processed_keywords.csv')\n        keywords = process_keywords(input_file, keywords_output)\n        progress.update(1)\n        \n        # Generate resume\n        basename_underscore = basename.replace(' ', '_').lower()\n        base_output = os.path.join(output_dir, f\"{basename_underscore}_resume.md\")\n        generate_resume(template_file, config_file, base_output, keywords_file=keywords_output)\n        progress.update(1)\n        \n        # Generate PDF and upload to Google Drive\n        if do_upload != 'skip':\n            pdf_file = generate_pdf(base_output, output_dir)\n            if pdf_file:\n                if do_upload is True:\n                    drive_link = upload_to_drive(pdf_file, drive_folder_id)\n                    upload_message = f\"and uploaded to Google Drive\"\n                else:\n                    upload_message = f\"(not uploaded to Google Drive)\"\n                progress.update(1)\n            else:\n                upload_message = f\"but PDF generation failed\"\n        else:\n            upload_message = \"(PDF generation skipped)\"\n        \n        progress.close()\n        print(f\"\u2705 Done! Your resume has been generated {upload_message}.\")\n        print(f\"\ud83d\udcc4 Output files are in: {output_dir}\")\n\n# Connect the button to the function\nrun_button.on_click(on_run_button_clicked)\n\n# Display the widgets\ndisplay(widgets.HTML(\"<h3>Resume Generator Options</h3>\"))\ndisplay(name_input)\ndisplay(template_dropdown)\ndisplay(input_file_widget)\ndisplay(upload_dropdown)\ndisplay(run_button)\ndisplay(output_area)",
   "execution_count": null
  }
 ],
 "metadata": {
  "kernelspec": {
   "display_name": ".venv",
   "language": "python",
   "name": "python3"
  },
  "language_info": {
   "codemirror_mode": {
    "name": "ipython",
    "version": 3
   },
   "file_extension": ".py",
   "mimetype": "text/x-python",
   "name": "python",
   "nbconvert_exporter": "python",
   "pygments_lexer": "ipython3",
   "version": "3.9.6"
  }
 },
 "nbformat": 4,
 "nbformat_minor": 4
}